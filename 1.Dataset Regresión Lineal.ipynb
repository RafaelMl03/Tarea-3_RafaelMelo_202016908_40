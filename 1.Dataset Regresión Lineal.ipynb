{
 "cells": [
  {
   "cell_type": "markdown",
   "id": "09605125-87d0-4ce9-aef4-5cd7530c41cb",
   "metadata": {},
   "source": [
    "## 1. Realizar un análisis exploratorio de los datos para identificar relaciones entre variables, valores atípicos, tendencias, etc."
   ]
  },
  {
   "cell_type": "code",
   "execution_count": 2,
   "id": "a29eabde-5c1f-4f0d-b4cb-618e934c50a5",
   "metadata": {},
   "outputs": [],
   "source": [
    "#Importar las bibliotecas necesarias \n",
    "import pandas as pd \n",
    "import matplotlib.pyplot as plt \n",
    "import seaborn as sns"
   ]
  },
  {
   "cell_type": "code",
   "execution_count": 18,
   "id": "a23f89f7-0b08-46b3-b15f-89ae0144d73f",
   "metadata": {},
   "outputs": [],
   "source": [
    "#Cargar los datos \n",
    "car_data = pd.read_csv('car data.csv') \n",
    "car_dekho = pd.read_csv('CAR DETAILS FROM CAR DEKHO.csv')"
   ]
  },
  {
   "cell_type": "code",
   "execution_count": 24,
   "id": "bdcea879-a284-4107-977c-eff954c7cfc9",
   "metadata": {},
   "outputs": [
    {
     "name": "stdout",
     "output_type": "stream",
     "text": [
      "Primeras filas de 'car data':\n",
      "    Car_Name  Year  Selling_Price  Present_Price  Kms_Driven Fuel_Type  \\\n",
      "0       ritz  2014           3.35           5.59       27000    Petrol   \n",
      "1        sx4  2013           4.75           9.54       43000    Diesel   \n",
      "2       ciaz  2017           7.25           9.85        6900    Petrol   \n",
      "3    wagon r  2011           2.85           4.15        5200    Petrol   \n",
      "4      swift  2014           4.60           6.87       42450    Diesel   \n",
      "..       ...   ...            ...            ...         ...       ...   \n",
      "296     city  2016           9.50          11.60       33988    Diesel   \n",
      "297     brio  2015           4.00           5.90       60000    Petrol   \n",
      "298     city  2009           3.35          11.00       87934    Petrol   \n",
      "299     city  2017          11.50          12.50        9000    Diesel   \n",
      "300     brio  2016           5.30           5.90        5464    Petrol   \n",
      "\n",
      "    Seller_Type Transmission  Owner  \n",
      "0        Dealer       Manual      0  \n",
      "1        Dealer       Manual      0  \n",
      "2        Dealer       Manual      0  \n",
      "3        Dealer       Manual      0  \n",
      "4        Dealer       Manual      0  \n",
      "..          ...          ...    ...  \n",
      "296      Dealer       Manual      0  \n",
      "297      Dealer       Manual      0  \n",
      "298      Dealer       Manual      0  \n",
      "299      Dealer       Manual      0  \n",
      "300      Dealer       Manual      0  \n",
      "\n",
      "[301 rows x 9 columns]\n",
      "\n",
      "Primeras filas de 'CAR DETAILS FROM CAR DEKHO':\n",
      "                                     name  year  selling_price  km_driven  \\\n",
      "0                           Maruti 800 AC  2007          60000      70000   \n",
      "1                Maruti Wagon R LXI Minor  2007         135000      50000   \n",
      "2                    Hyundai Verna 1.6 SX  2012         600000     100000   \n",
      "3                  Datsun RediGO T Option  2017         250000      46000   \n",
      "4                   Honda Amaze VX i-DTEC  2014         450000     141000   \n",
      "...                                   ...   ...            ...        ...   \n",
      "4335  Hyundai i20 Magna 1.4 CRDi (Diesel)  2014         409999      80000   \n",
      "4336           Hyundai i20 Magna 1.4 CRDi  2014         409999      80000   \n",
      "4337                  Maruti 800 AC BSIII  2009         110000      83000   \n",
      "4338     Hyundai Creta 1.6 CRDi SX Option  2016         865000      90000   \n",
      "4339                     Renault KWID RXT  2016         225000      40000   \n",
      "\n",
      "        fuel seller_type transmission         owner  \n",
      "0     Petrol  Individual       Manual   First Owner  \n",
      "1     Petrol  Individual       Manual   First Owner  \n",
      "2     Diesel  Individual       Manual   First Owner  \n",
      "3     Petrol  Individual       Manual   First Owner  \n",
      "4     Diesel  Individual       Manual  Second Owner  \n",
      "...      ...         ...          ...           ...  \n",
      "4335  Diesel  Individual       Manual  Second Owner  \n",
      "4336  Diesel  Individual       Manual  Second Owner  \n",
      "4337  Petrol  Individual       Manual  Second Owner  \n",
      "4338  Diesel  Individual       Manual   First Owner  \n",
      "4339  Petrol  Individual       Manual   First Owner  \n",
      "\n",
      "[4340 rows x 8 columns]\n"
     ]
    }
   ],
   "source": [
    "#Inspeccionar los datos \n",
    "print(\"Primeras filas de 'car data':\") \n",
    "print(car_data) \n",
    "print(\"\\nPrimeras filas de 'CAR DETAILS FROM CAR DEKHO':\") \n",
    "print(car_dekho) "
   ]
  },
  {
   "cell_type": "code",
   "execution_count": 26,
   "id": "f1afc5ee-68bf-47ee-897c-38e2d932f931",
   "metadata": {},
   "outputs": [
    {
     "name": "stdout",
     "output_type": "stream",
     "text": [
      "\n",
      "Nombres de las columnas en 'car data':\n",
      "['Car_Name', 'Year', 'Selling_Price', 'Present_Price', 'Kms_Driven', 'Fuel_Type', 'Seller_Type', 'Transmission', 'Owner']\n",
      "\n",
      "Nombres de las columnas en 'CAR DETAILS FROM CAR DEKHO':\n",
      "['name', 'year', 'selling_price', 'km_driven', 'fuel', 'seller_type', 'transmission', 'owner']\n"
     ]
    }
   ],
   "source": [
    "#Verificar los nombres de las columas \n",
    "print(\"\\nNombres de las columnas en 'car data':\") \n",
    "print(car_data.columns.tolist()) \n",
    "print(\"\\nNombres de las columnas en 'CAR DETAILS FROM CAR DEKHO':\") \n",
    "print(car_dekho.columns.tolist()) "
   ]
  },
  {
   "cell_type": "code",
   "execution_count": 30,
   "id": "3da29b0d-1642-4e9a-9b6f-832a3cc25c2a",
   "metadata": {},
   "outputs": [],
   "source": [
    "#Limpiar espacios en los nombres de las columnas \n",
    "car_data.columns = car_data.columns.str.strip() \n",
    "car_dekho.columns = car_dekho.columns.str.strip() "
   ]
  },
  {
   "cell_type": "markdown",
   "id": "88d1d4f2-2eb6-43bd-a8da-9adf9f7df830",
   "metadata": {},
   "source": [
    "## 2. Preprocesar los datos limpiándolos, tratando valores faltantes y transformándolos según sea necesario."
   ]
  },
  {
   "cell_type": "code",
   "execution_count": 52,
   "id": "58d27665-1e4e-4488-a123-00766496b78b",
   "metadata": {},
   "outputs": [],
   "source": [
    "#Leer todos los datos de los archivos \n",
    "car_data = pd.read_csv('car data.csv')\n",
    "car_dekho = pd.read_csv('CAR DETAILS FROM CAR DEKHO.csv') "
   ]
  },
  {
   "cell_type": "code",
   "execution_count": 66,
   "id": "69f7c988-305b-483d-8843-b25498eec53c",
   "metadata": {},
   "outputs": [],
   "source": [
    "#Limpiar 'car_data' \n",
    "#Convertir Selling Frice y Present Price a tipo numérico \n",
    "car_data['Selling_Price'] = pd.to_numeric(car_data['Selling_Price'], errors='coerce')\n",
    "car_data['Present_Price'] = pd.to_numeric(car_data['Present_Price'], errors='coerce')"
   ]
  },
  {
   "cell_type": "code",
   "execution_count": 70,
   "id": "33c31196-b497-4015-ab71-65b20bb92991",
   "metadata": {},
   "outputs": [],
   "source": [
    "#Asegurarse de que Kms Driven sea tratado correctamente \n",
    "car_data['Kms_Driven'] = car_data['Kms_Driven'].astype(str).str.replace('km', '').str.replace(',', '').astype(float) "
   ]
  },
  {
   "cell_type": "code",
   "execution_count": 76,
   "id": "1a7425d2-7211-47c2-a2e6-5a37344b0194",
   "metadata": {},
   "outputs": [],
   "source": [
    "#Manejo de valores faltantes en car_data solo para columnas numéricas  \n",
    "numeric_cols_car_data = car_data.select_dtypes (include=['float64', 'Int64']).columns \n",
    "car_data[numeric_cols_car_data] = car_data[numeric_cols_car_data].fillna (car_data [numeric_cols_car_data].mean())"
   ]
  },
  {
   "cell_type": "code",
   "execution_count": 82,
   "id": "4aee00b9-316f-4c1b-b9aa-5e03bf408371",
   "metadata": {},
   "outputs": [],
   "source": [
    "#Limpiar 'car_dekho'\n",
    "#Convertir Selling Frice y Kilómetros a tipo numérico \n",
    "car_dekho['selling_price'] = pd.to_numeric(car_dekho['selling_price'], errors='coerce') \n",
    "car_dekho['km_driven'] = pd.to_numeric(car_dekho['km_driven'], errors='coerce')"
   ]
  },
  {
   "cell_type": "code",
   "execution_count": 84,
   "id": "7e15f998-6da4-4018-a288-5f65ce0bcc56",
   "metadata": {},
   "outputs": [],
   "source": [
    "#Manejo de valores faltantes en car_dekho solo para columnas numéricas \n",
    "numeric_cols_car_dekho = car_dekho.select_dtypes (include=['float64', 'Int64']).columns \n",
    "car_dekho[numeric_cols_car_dekho] = car_dekho[numeric_cols_car_dekho].fillna (car_dekho [numeric_cols_car_dekho].mean())"
   ]
  },
  {
   "cell_type": "code",
   "execution_count": 96,
   "id": "9863d33f-d731-4c81-9b8d-72353c54347b",
   "metadata": {},
   "outputs": [],
   "source": [
    "#Convertir columnas categóricas a tipo de categoría (opcional) \n",
    "categorical_columns_car_data = ['Fuel_Type', 'Seller_Type', 'Transmission'] \n",
    "categorical_columns_car_dekho = ['fuel', 'seller_type', 'transmission', 'owner'] \n",
    "\n",
    "for col in categorical_columns_car_data:\n",
    "    car_data[col] = car_data[col].astype('category') \n",
    "\n",
    "for col in categorical_columns_car_dekho:\n",
    "    car_dekho[col] = car_dekho[col].astype('category') "
   ]
  },
  {
   "cell_type": "code",
   "execution_count": 110,
   "id": "971f6f16-0a01-4e51-8109-d74e1fa09cf3",
   "metadata": {},
   "outputs": [
    {
     "name": "stdout",
     "output_type": "stream",
     "text": [
      "Datos preprocesados de car_data: \n",
      "    Car_Name  Year Selling_Price Present_Price Kms_Driven Fuel_Type  \\\n",
      "0       ritz  2014          3.35          5.59    27000.0    Petrol   \n",
      "1        sx4  2013          4.75          9.54    43000.0    Diesel   \n",
      "2       ciaz  2017          7.25          9.85     6900.0    Petrol   \n",
      "3    wagon r  2011          2.85          4.15     5200.0    Petrol   \n",
      "4      swift  2014           4.6          6.87    42450.0    Diesel   \n",
      "0        ...   ...           ...           ...        ...       ...   \n",
      "296     city  2016           9.5          11.6    33988.0    Diesel   \n",
      "297     brio  2015           4.0           5.9    60000.0    Petrol   \n",
      "298     city  2009          3.35          11.0    87934.0    Petrol   \n",
      "299     city  2017          11.5          12.5     9000.0    Diesel   \n",
      "300     brio  2016           5.3           5.9     5464.0    Petrol   \n",
      "\n",
      "    Seller_Type Transmission Owner  \n",
      "0        Dealer       Manual     0  \n",
      "1        Dealer       Manual     0  \n",
      "2        Dealer       Manual     0  \n",
      "3        Dealer       Manual     0  \n",
      "4        Dealer       Manual     0  \n",
      "0           ...          ...   ...  \n",
      "296      Dealer       Manual     0  \n",
      "297      Dealer       Manual     0  \n",
      "298      Dealer       Manual     0  \n",
      "299      Dealer       Manual     0  \n",
      "300      Dealer       Manual     0  \n",
      "\n",
      "Datos preprocesados de CAR DETAILS FROM CAR DEKHO:\n",
      "                                     name  year selling_price km_driven  \\\n",
      "0                           Maruti 800 AC  2007         60000     70000   \n",
      "1                Maruti Wagon R LXI Minor  2007        135000     50000   \n",
      "2                    Hyundai Verna 1.6 SX  2012        600000    100000   \n",
      "3                  Datsun RediGO T Option  2017        250000     46000   \n",
      "4                   Honda Amaze VX i-DTEC  2014        450000    141000   \n",
      "0                                     ...   ...           ...       ...   \n",
      "4335  Hyundai i20 Magna 1.4 CRDi (Diesel)  2014        409999     80000   \n",
      "4336           Hyundai i20 Magna 1.4 CRDi  2014        409999     80000   \n",
      "4337                  Maruti 800 AC BSIII  2009        110000     83000   \n",
      "4338     Hyundai Creta 1.6 CRDi SX Option  2016        865000     90000   \n",
      "4339                     Renault KWID RXT  2016        225000     40000   \n",
      "\n",
      "        fuel seller_type transmission         owner  \n",
      "0     Petrol  Individual       Manual   First Owner  \n",
      "1     Petrol  Individual       Manual   First Owner  \n",
      "2     Diesel  Individual       Manual   First Owner  \n",
      "3     Petrol  Individual       Manual   First Owner  \n",
      "4     Diesel  Individual       Manual  Second Owner  \n",
      "0        ...         ...          ...           ...  \n",
      "4335  Diesel  Individual       Manual  Second Owner  \n",
      "4336  Diesel  Individual       Manual  Second Owner  \n",
      "4337  Petrol  Individual       Manual  Second Owner  \n",
      "4338  Diesel  Individual       Manual   First Owner  \n",
      "4339  Petrol  Individual       Manual   First Owner  \n"
     ]
    }
   ],
   "source": [
    "#Mostrar las primeras 5 Filas, 5 puntos suspensivos y las últinas 5 filas\n",
    "print(\"Datos preprocesados de car_data: \") \n",
    "print(pd.concat([car_data.head(), pd.DataFrame([[\"...\"] * len(car_data.columns)], columns=car_data.columns), car_data.tail()])) \n",
    "print(\"\\nDatos preprocesados de CAR DETAILS FROM CAR DEKHO:\") \n",
    "print(pd.concat([car_dekho.head(), pd.DataFrame([[\"...\"] * len(car_dekho.columns)], columns=car_dekho.columns), car_dekho.tail()]))"
   ]
  },
  {
   "cell_type": "markdown",
   "id": "f898d1ef-5c29-45f4-b7c5-5bff0ce01ddb",
   "metadata": {},
   "source": [
    "\n",
    "## 3. Seleccionar las características más relevantes para entrenar el modelo utilizando selección de características.\n"
   ]
  },
  {
   "cell_type": "code",
   "execution_count": 140,
   "id": "ce659415-48d5-4be5-98d1-26a567dec1af",
   "metadata": {},
   "outputs": [],
   "source": [
    "import pandas as pd \n",
    "from sklearn.model_selection import train_test_split \n",
    "from sklearn.ensemble import RandomForestRegressor \n",
    "import matplotlib.pyplot as plt \n",
    "import seaborn as sns"
   ]
  },
  {
   "cell_type": "code",
   "execution_count": 144,
   "id": "eac1c815-594a-468b-9154-9b86456ec501",
   "metadata": {},
   "outputs": [],
   "source": [
    "#Leer todos los datos de los archivos \n",
    "car_data = pd.read_csv('car data.csv')\n",
    "car_dekho = pd.read_csv('CAR DETAILS FROM CAR DEKHO.csv') "
   ]
  },
  {
   "cell_type": "code",
   "execution_count": 146,
   "id": "3bc322dd-340c-4191-b039-fbf05bc03104",
   "metadata": {},
   "outputs": [],
   "source": [
    "#Limpiar 'car_data' \n",
    "car_data['Selling_Price'] = pd.to_numeric(car_data['Selling_Price'], errors='coerce')\n",
    "car_data['Present_Price'] = pd.to_numeric(car_data['Present_Price'], errors='coerce')\n",
    "\n",
    "car_data['Kms_Driven'] = car_data['Kms_Driven'].astype(str).str.replace('km', '').str.replace(',', '').astype(float) \n",
    "\n",
    "numeric_cols_car_data = car_data.select_dtypes (include=['float64', 'Int64']).columns \n",
    "car_data[numeric_cols_car_data] = car_data[numeric_cols_car_data].fillna (car_data [numeric_cols_car_data].mean())"
   ]
  },
  {
   "cell_type": "code",
   "execution_count": 148,
   "id": "9998cd99-13b3-4fa2-91a2-0a3253d11b97",
   "metadata": {},
   "outputs": [],
   "source": [
    "#Limpiar 'car_dekho' \n",
    "car_dekho['selling_price'] = pd.to_numeric(car_dekho['selling_price'], errors='coerce') \n",
    "car_dekho['km_driven'] = pd.to_numeric(car_dekho['km_driven'], errors='coerce')\n",
    "\n",
    "numeric_cols_car_dekho = car_dekho.select_dtypes (include=['float64', 'Int64']).columns \n",
    "car_dekho[numeric_cols_car_dekho] = car_dekho[numeric_cols_car_dekho].fillna (car_dekho [numeric_cols_car_dekho].mean())\n",
    "\n",
    "categorical_columns_car_data = ['Fuel_Type', 'Seller_Type', 'Transmission'] \n",
    "categorical_columns_car_dekho = ['fuel', 'seller_type', 'transmission', 'owner'] \n",
    "\n",
    "for col in categorical_columns_car_data:\n",
    "    car_data[col] = car_data[col].astype('category') \n",
    "\n",
    "for col in categorical_columns_car_dekho:\n",
    "    car_dekho[col] = car_dekho[col].astype('category') "
   ]
  },
  {
   "cell_type": "markdown",
   "id": "7ed4aecd-e486-497f-9749-8b35973fe722",
   "metadata": {},
   "source": [
    "## 4. Dividir el dataset en Train y Test para evaluar correctamente el modelo."
   ]
  },
  {
   "cell_type": "code",
   "execution_count": 118,
   "id": "a1c54988-83e3-4038-8235-a544b457f586",
   "metadata": {},
   "outputs": [],
   "source": [
    "from sklearn.model_selection import train_test_split"
   ]
  },
  {
   "cell_type": "code",
   "execution_count": 152,
   "id": "83bdcd89-87eb-4fbf-a144-60680895c5f1",
   "metadata": {},
   "outputs": [],
   "source": [
    "#Definir la variable objetivo y las características \n",
    "X = car_data[['Present_Price', 'Year', 'Kms_Driven']] # Características relevantes \n",
    "Y = car_data['Selling_Price'] # Variable objetivo "
   ]
  },
  {
   "cell_type": "code",
   "execution_count": 154,
   "id": "2dd44e50-afd4-4844-b782-9ccd6dd953a1",
   "metadata": {},
   "outputs": [],
   "source": [
    "#Dividir el conjunto de datos en conjuntos de entrenamiento y prueba \n",
    "X_train, X_test, Y_train, Y_test = train_test_split(X, Y, test_size=0.2, random_state=42) "
   ]
  },
  {
   "cell_type": "code",
   "execution_count": 200,
   "id": "380b766a-2e4d-49ff-bafd-d17c7a09e131",
   "metadata": {},
   "outputs": [
    {
     "name": "stdout",
     "output_type": "stream",
     "text": [
      "Dimensiones del conjunto de entrenamiento:\n",
      "X_train: (240, 3)\n",
      "Y_train: (240,)\n",
      "\n",
      "Dimensiones del conjunto de prueba:\n",
      "X_test: (61, 3)\n",
      "Y_test: (61,)\n"
     ]
    }
   ],
   "source": [
    "#Mostrar las dimensiones de los conjuntos resultantes \n",
    "print(\"Dimensiones del conjunto de entrenamiento:\") \n",
    "print(\"X_train:\", X_train.shape) \n",
    "print(\"Y_train:\", Y_train.shape) \n",
    "print(\"\\nDimensiones del conjunto de prueba:\") \n",
    "print(\"X_test:\", X_test.shape) \n",
    "print(\"Y_test:\", Y_test.shape)"
   ]
  },
  {
   "cell_type": "markdown",
   "id": "779a1303-64e0-47fc-8127-cb520f0ab2fd",
   "metadata": {},
   "source": [
    "## 5. Entrenar el modelo configurando los diferentes hiperparámetros."
   ]
  },
  {
   "cell_type": "code",
   "execution_count": 202,
   "id": "f85a8205-86f9-499a-b839-849f142471af",
   "metadata": {},
   "outputs": [],
   "source": [
    "from sklearn.metrics import mean_squared_error\n",
    "from sklearn.metrics import r2_score"
   ]
  },
  {
   "cell_type": "code",
   "execution_count": null,
   "id": "0c98ff1d-2662-45d1-bdf2-6f6212faf6b8",
   "metadata": {},
   "outputs": [],
   "source": [
    "#Dividir el conjunto de datos en conjuntos de entrenamiento y prueba \n",
    "X_train, X_test, Y_train, Y_test = train_test_split(X, Y, test_size=0.2, random_state=42) "
   ]
  },
  {
   "cell_type": "code",
   "execution_count": 206,
   "id": "c1440a6e-96e3-40e9-84b0-acac6544093d",
   "metadata": {},
   "outputs": [
    {
     "data": {
      "text/html": [
       "<style>#sk-container-id-2 {\n",
       "  /* Definition of color scheme common for light and dark mode */\n",
       "  --sklearn-color-text: black;\n",
       "  --sklearn-color-line: gray;\n",
       "  /* Definition of color scheme for unfitted estimators */\n",
       "  --sklearn-color-unfitted-level-0: #fff5e6;\n",
       "  --sklearn-color-unfitted-level-1: #f6e4d2;\n",
       "  --sklearn-color-unfitted-level-2: #ffe0b3;\n",
       "  --sklearn-color-unfitted-level-3: chocolate;\n",
       "  /* Definition of color scheme for fitted estimators */\n",
       "  --sklearn-color-fitted-level-0: #f0f8ff;\n",
       "  --sklearn-color-fitted-level-1: #d4ebff;\n",
       "  --sklearn-color-fitted-level-2: #b3dbfd;\n",
       "  --sklearn-color-fitted-level-3: cornflowerblue;\n",
       "\n",
       "  /* Specific color for light theme */\n",
       "  --sklearn-color-text-on-default-background: var(--sg-text-color, var(--theme-code-foreground, var(--jp-content-font-color1, black)));\n",
       "  --sklearn-color-background: var(--sg-background-color, var(--theme-background, var(--jp-layout-color0, white)));\n",
       "  --sklearn-color-border-box: var(--sg-text-color, var(--theme-code-foreground, var(--jp-content-font-color1, black)));\n",
       "  --sklearn-color-icon: #696969;\n",
       "\n",
       "  @media (prefers-color-scheme: dark) {\n",
       "    /* Redefinition of color scheme for dark theme */\n",
       "    --sklearn-color-text-on-default-background: var(--sg-text-color, var(--theme-code-foreground, var(--jp-content-font-color1, white)));\n",
       "    --sklearn-color-background: var(--sg-background-color, var(--theme-background, var(--jp-layout-color0, #111)));\n",
       "    --sklearn-color-border-box: var(--sg-text-color, var(--theme-code-foreground, var(--jp-content-font-color1, white)));\n",
       "    --sklearn-color-icon: #878787;\n",
       "  }\n",
       "}\n",
       "\n",
       "#sk-container-id-2 {\n",
       "  color: var(--sklearn-color-text);\n",
       "}\n",
       "\n",
       "#sk-container-id-2 pre {\n",
       "  padding: 0;\n",
       "}\n",
       "\n",
       "#sk-container-id-2 input.sk-hidden--visually {\n",
       "  border: 0;\n",
       "  clip: rect(1px 1px 1px 1px);\n",
       "  clip: rect(1px, 1px, 1px, 1px);\n",
       "  height: 1px;\n",
       "  margin: -1px;\n",
       "  overflow: hidden;\n",
       "  padding: 0;\n",
       "  position: absolute;\n",
       "  width: 1px;\n",
       "}\n",
       "\n",
       "#sk-container-id-2 div.sk-dashed-wrapped {\n",
       "  border: 1px dashed var(--sklearn-color-line);\n",
       "  margin: 0 0.4em 0.5em 0.4em;\n",
       "  box-sizing: border-box;\n",
       "  padding-bottom: 0.4em;\n",
       "  background-color: var(--sklearn-color-background);\n",
       "}\n",
       "\n",
       "#sk-container-id-2 div.sk-container {\n",
       "  /* jupyter's `normalize.less` sets `[hidden] { display: none; }`\n",
       "     but bootstrap.min.css set `[hidden] { display: none !important; }`\n",
       "     so we also need the `!important` here to be able to override the\n",
       "     default hidden behavior on the sphinx rendered scikit-learn.org.\n",
       "     See: https://github.com/scikit-learn/scikit-learn/issues/21755 */\n",
       "  display: inline-block !important;\n",
       "  position: relative;\n",
       "}\n",
       "\n",
       "#sk-container-id-2 div.sk-text-repr-fallback {\n",
       "  display: none;\n",
       "}\n",
       "\n",
       "div.sk-parallel-item,\n",
       "div.sk-serial,\n",
       "div.sk-item {\n",
       "  /* draw centered vertical line to link estimators */\n",
       "  background-image: linear-gradient(var(--sklearn-color-text-on-default-background), var(--sklearn-color-text-on-default-background));\n",
       "  background-size: 2px 100%;\n",
       "  background-repeat: no-repeat;\n",
       "  background-position: center center;\n",
       "}\n",
       "\n",
       "/* Parallel-specific style estimator block */\n",
       "\n",
       "#sk-container-id-2 div.sk-parallel-item::after {\n",
       "  content: \"\";\n",
       "  width: 100%;\n",
       "  border-bottom: 2px solid var(--sklearn-color-text-on-default-background);\n",
       "  flex-grow: 1;\n",
       "}\n",
       "\n",
       "#sk-container-id-2 div.sk-parallel {\n",
       "  display: flex;\n",
       "  align-items: stretch;\n",
       "  justify-content: center;\n",
       "  background-color: var(--sklearn-color-background);\n",
       "  position: relative;\n",
       "}\n",
       "\n",
       "#sk-container-id-2 div.sk-parallel-item {\n",
       "  display: flex;\n",
       "  flex-direction: column;\n",
       "}\n",
       "\n",
       "#sk-container-id-2 div.sk-parallel-item:first-child::after {\n",
       "  align-self: flex-end;\n",
       "  width: 50%;\n",
       "}\n",
       "\n",
       "#sk-container-id-2 div.sk-parallel-item:last-child::after {\n",
       "  align-self: flex-start;\n",
       "  width: 50%;\n",
       "}\n",
       "\n",
       "#sk-container-id-2 div.sk-parallel-item:only-child::after {\n",
       "  width: 0;\n",
       "}\n",
       "\n",
       "/* Serial-specific style estimator block */\n",
       "\n",
       "#sk-container-id-2 div.sk-serial {\n",
       "  display: flex;\n",
       "  flex-direction: column;\n",
       "  align-items: center;\n",
       "  background-color: var(--sklearn-color-background);\n",
       "  padding-right: 1em;\n",
       "  padding-left: 1em;\n",
       "}\n",
       "\n",
       "\n",
       "/* Toggleable style: style used for estimator/Pipeline/ColumnTransformer box that is\n",
       "clickable and can be expanded/collapsed.\n",
       "- Pipeline and ColumnTransformer use this feature and define the default style\n",
       "- Estimators will overwrite some part of the style using the `sk-estimator` class\n",
       "*/\n",
       "\n",
       "/* Pipeline and ColumnTransformer style (default) */\n",
       "\n",
       "#sk-container-id-2 div.sk-toggleable {\n",
       "  /* Default theme specific background. It is overwritten whether we have a\n",
       "  specific estimator or a Pipeline/ColumnTransformer */\n",
       "  background-color: var(--sklearn-color-background);\n",
       "}\n",
       "\n",
       "/* Toggleable label */\n",
       "#sk-container-id-2 label.sk-toggleable__label {\n",
       "  cursor: pointer;\n",
       "  display: block;\n",
       "  width: 100%;\n",
       "  margin-bottom: 0;\n",
       "  padding: 0.5em;\n",
       "  box-sizing: border-box;\n",
       "  text-align: center;\n",
       "}\n",
       "\n",
       "#sk-container-id-2 label.sk-toggleable__label-arrow:before {\n",
       "  /* Arrow on the left of the label */\n",
       "  content: \"▸\";\n",
       "  float: left;\n",
       "  margin-right: 0.25em;\n",
       "  color: var(--sklearn-color-icon);\n",
       "}\n",
       "\n",
       "#sk-container-id-2 label.sk-toggleable__label-arrow:hover:before {\n",
       "  color: var(--sklearn-color-text);\n",
       "}\n",
       "\n",
       "/* Toggleable content - dropdown */\n",
       "\n",
       "#sk-container-id-2 div.sk-toggleable__content {\n",
       "  max-height: 0;\n",
       "  max-width: 0;\n",
       "  overflow: hidden;\n",
       "  text-align: left;\n",
       "  /* unfitted */\n",
       "  background-color: var(--sklearn-color-unfitted-level-0);\n",
       "}\n",
       "\n",
       "#sk-container-id-2 div.sk-toggleable__content.fitted {\n",
       "  /* fitted */\n",
       "  background-color: var(--sklearn-color-fitted-level-0);\n",
       "}\n",
       "\n",
       "#sk-container-id-2 div.sk-toggleable__content pre {\n",
       "  margin: 0.2em;\n",
       "  border-radius: 0.25em;\n",
       "  color: var(--sklearn-color-text);\n",
       "  /* unfitted */\n",
       "  background-color: var(--sklearn-color-unfitted-level-0);\n",
       "}\n",
       "\n",
       "#sk-container-id-2 div.sk-toggleable__content.fitted pre {\n",
       "  /* unfitted */\n",
       "  background-color: var(--sklearn-color-fitted-level-0);\n",
       "}\n",
       "\n",
       "#sk-container-id-2 input.sk-toggleable__control:checked~div.sk-toggleable__content {\n",
       "  /* Expand drop-down */\n",
       "  max-height: 200px;\n",
       "  max-width: 100%;\n",
       "  overflow: auto;\n",
       "}\n",
       "\n",
       "#sk-container-id-2 input.sk-toggleable__control:checked~label.sk-toggleable__label-arrow:before {\n",
       "  content: \"▾\";\n",
       "}\n",
       "\n",
       "/* Pipeline/ColumnTransformer-specific style */\n",
       "\n",
       "#sk-container-id-2 div.sk-label input.sk-toggleable__control:checked~label.sk-toggleable__label {\n",
       "  color: var(--sklearn-color-text);\n",
       "  background-color: var(--sklearn-color-unfitted-level-2);\n",
       "}\n",
       "\n",
       "#sk-container-id-2 div.sk-label.fitted input.sk-toggleable__control:checked~label.sk-toggleable__label {\n",
       "  background-color: var(--sklearn-color-fitted-level-2);\n",
       "}\n",
       "\n",
       "/* Estimator-specific style */\n",
       "\n",
       "/* Colorize estimator box */\n",
       "#sk-container-id-2 div.sk-estimator input.sk-toggleable__control:checked~label.sk-toggleable__label {\n",
       "  /* unfitted */\n",
       "  background-color: var(--sklearn-color-unfitted-level-2);\n",
       "}\n",
       "\n",
       "#sk-container-id-2 div.sk-estimator.fitted input.sk-toggleable__control:checked~label.sk-toggleable__label {\n",
       "  /* fitted */\n",
       "  background-color: var(--sklearn-color-fitted-level-2);\n",
       "}\n",
       "\n",
       "#sk-container-id-2 div.sk-label label.sk-toggleable__label,\n",
       "#sk-container-id-2 div.sk-label label {\n",
       "  /* The background is the default theme color */\n",
       "  color: var(--sklearn-color-text-on-default-background);\n",
       "}\n",
       "\n",
       "/* On hover, darken the color of the background */\n",
       "#sk-container-id-2 div.sk-label:hover label.sk-toggleable__label {\n",
       "  color: var(--sklearn-color-text);\n",
       "  background-color: var(--sklearn-color-unfitted-level-2);\n",
       "}\n",
       "\n",
       "/* Label box, darken color on hover, fitted */\n",
       "#sk-container-id-2 div.sk-label.fitted:hover label.sk-toggleable__label.fitted {\n",
       "  color: var(--sklearn-color-text);\n",
       "  background-color: var(--sklearn-color-fitted-level-2);\n",
       "}\n",
       "\n",
       "/* Estimator label */\n",
       "\n",
       "#sk-container-id-2 div.sk-label label {\n",
       "  font-family: monospace;\n",
       "  font-weight: bold;\n",
       "  display: inline-block;\n",
       "  line-height: 1.2em;\n",
       "}\n",
       "\n",
       "#sk-container-id-2 div.sk-label-container {\n",
       "  text-align: center;\n",
       "}\n",
       "\n",
       "/* Estimator-specific */\n",
       "#sk-container-id-2 div.sk-estimator {\n",
       "  font-family: monospace;\n",
       "  border: 1px dotted var(--sklearn-color-border-box);\n",
       "  border-radius: 0.25em;\n",
       "  box-sizing: border-box;\n",
       "  margin-bottom: 0.5em;\n",
       "  /* unfitted */\n",
       "  background-color: var(--sklearn-color-unfitted-level-0);\n",
       "}\n",
       "\n",
       "#sk-container-id-2 div.sk-estimator.fitted {\n",
       "  /* fitted */\n",
       "  background-color: var(--sklearn-color-fitted-level-0);\n",
       "}\n",
       "\n",
       "/* on hover */\n",
       "#sk-container-id-2 div.sk-estimator:hover {\n",
       "  /* unfitted */\n",
       "  background-color: var(--sklearn-color-unfitted-level-2);\n",
       "}\n",
       "\n",
       "#sk-container-id-2 div.sk-estimator.fitted:hover {\n",
       "  /* fitted */\n",
       "  background-color: var(--sklearn-color-fitted-level-2);\n",
       "}\n",
       "\n",
       "/* Specification for estimator info (e.g. \"i\" and \"?\") */\n",
       "\n",
       "/* Common style for \"i\" and \"?\" */\n",
       "\n",
       ".sk-estimator-doc-link,\n",
       "a:link.sk-estimator-doc-link,\n",
       "a:visited.sk-estimator-doc-link {\n",
       "  float: right;\n",
       "  font-size: smaller;\n",
       "  line-height: 1em;\n",
       "  font-family: monospace;\n",
       "  background-color: var(--sklearn-color-background);\n",
       "  border-radius: 1em;\n",
       "  height: 1em;\n",
       "  width: 1em;\n",
       "  text-decoration: none !important;\n",
       "  margin-left: 1ex;\n",
       "  /* unfitted */\n",
       "  border: var(--sklearn-color-unfitted-level-1) 1pt solid;\n",
       "  color: var(--sklearn-color-unfitted-level-1);\n",
       "}\n",
       "\n",
       ".sk-estimator-doc-link.fitted,\n",
       "a:link.sk-estimator-doc-link.fitted,\n",
       "a:visited.sk-estimator-doc-link.fitted {\n",
       "  /* fitted */\n",
       "  border: var(--sklearn-color-fitted-level-1) 1pt solid;\n",
       "  color: var(--sklearn-color-fitted-level-1);\n",
       "}\n",
       "\n",
       "/* On hover */\n",
       "div.sk-estimator:hover .sk-estimator-doc-link:hover,\n",
       ".sk-estimator-doc-link:hover,\n",
       "div.sk-label-container:hover .sk-estimator-doc-link:hover,\n",
       ".sk-estimator-doc-link:hover {\n",
       "  /* unfitted */\n",
       "  background-color: var(--sklearn-color-unfitted-level-3);\n",
       "  color: var(--sklearn-color-background);\n",
       "  text-decoration: none;\n",
       "}\n",
       "\n",
       "div.sk-estimator.fitted:hover .sk-estimator-doc-link.fitted:hover,\n",
       ".sk-estimator-doc-link.fitted:hover,\n",
       "div.sk-label-container:hover .sk-estimator-doc-link.fitted:hover,\n",
       ".sk-estimator-doc-link.fitted:hover {\n",
       "  /* fitted */\n",
       "  background-color: var(--sklearn-color-fitted-level-3);\n",
       "  color: var(--sklearn-color-background);\n",
       "  text-decoration: none;\n",
       "}\n",
       "\n",
       "/* Span, style for the box shown on hovering the info icon */\n",
       ".sk-estimator-doc-link span {\n",
       "  display: none;\n",
       "  z-index: 9999;\n",
       "  position: relative;\n",
       "  font-weight: normal;\n",
       "  right: .2ex;\n",
       "  padding: .5ex;\n",
       "  margin: .5ex;\n",
       "  width: min-content;\n",
       "  min-width: 20ex;\n",
       "  max-width: 50ex;\n",
       "  color: var(--sklearn-color-text);\n",
       "  box-shadow: 2pt 2pt 4pt #999;\n",
       "  /* unfitted */\n",
       "  background: var(--sklearn-color-unfitted-level-0);\n",
       "  border: .5pt solid var(--sklearn-color-unfitted-level-3);\n",
       "}\n",
       "\n",
       ".sk-estimator-doc-link.fitted span {\n",
       "  /* fitted */\n",
       "  background: var(--sklearn-color-fitted-level-0);\n",
       "  border: var(--sklearn-color-fitted-level-3);\n",
       "}\n",
       "\n",
       ".sk-estimator-doc-link:hover span {\n",
       "  display: block;\n",
       "}\n",
       "\n",
       "/* \"?\"-specific style due to the `<a>` HTML tag */\n",
       "\n",
       "#sk-container-id-2 a.estimator_doc_link {\n",
       "  float: right;\n",
       "  font-size: 1rem;\n",
       "  line-height: 1em;\n",
       "  font-family: monospace;\n",
       "  background-color: var(--sklearn-color-background);\n",
       "  border-radius: 1rem;\n",
       "  height: 1rem;\n",
       "  width: 1rem;\n",
       "  text-decoration: none;\n",
       "  /* unfitted */\n",
       "  color: var(--sklearn-color-unfitted-level-1);\n",
       "  border: var(--sklearn-color-unfitted-level-1) 1pt solid;\n",
       "}\n",
       "\n",
       "#sk-container-id-2 a.estimator_doc_link.fitted {\n",
       "  /* fitted */\n",
       "  border: var(--sklearn-color-fitted-level-1) 1pt solid;\n",
       "  color: var(--sklearn-color-fitted-level-1);\n",
       "}\n",
       "\n",
       "/* On hover */\n",
       "#sk-container-id-2 a.estimator_doc_link:hover {\n",
       "  /* unfitted */\n",
       "  background-color: var(--sklearn-color-unfitted-level-3);\n",
       "  color: var(--sklearn-color-background);\n",
       "  text-decoration: none;\n",
       "}\n",
       "\n",
       "#sk-container-id-2 a.estimator_doc_link.fitted:hover {\n",
       "  /* fitted */\n",
       "  background-color: var(--sklearn-color-fitted-level-3);\n",
       "}\n",
       "</style><div id=\"sk-container-id-2\" class=\"sk-top-container\"><div class=\"sk-text-repr-fallback\"><pre>RandomForestRegressor(max_depth=10, min_samples_split=3, n_estimators=200)</pre><b>In a Jupyter environment, please rerun this cell to show the HTML representation or trust the notebook. <br />On GitHub, the HTML representation is unable to render, please try loading this page with nbviewer.org.</b></div><div class=\"sk-container\" hidden><div class=\"sk-item\"><div class=\"sk-estimator fitted sk-toggleable\"><input class=\"sk-toggleable__control sk-hidden--visually\" id=\"sk-estimator-id-2\" type=\"checkbox\" checked><label for=\"sk-estimator-id-2\" class=\"sk-toggleable__label fitted sk-toggleable__label-arrow fitted\">&nbsp;&nbsp;RandomForestRegressor<a class=\"sk-estimator-doc-link fitted\" rel=\"noreferrer\" target=\"_blank\" href=\"https://scikit-learn.org/1.5/modules/generated/sklearn.ensemble.RandomForestRegressor.html\">?<span>Documentation for RandomForestRegressor</span></a><span class=\"sk-estimator-doc-link fitted\">i<span>Fitted</span></span></label><div class=\"sk-toggleable__content fitted\"><pre>RandomForestRegressor(max_depth=10, min_samples_split=3, n_estimators=200)</pre></div> </div></div></div></div>"
      ],
      "text/plain": [
       "RandomForestRegressor(max_depth=10, min_samples_split=3, n_estimators=200)"
      ]
     },
     "execution_count": 206,
     "metadata": {},
     "output_type": "execute_result"
    }
   ],
   "source": [
    "model = RandomForestRegressor(n_estimators=200, max_depth=10, min_samples_split=3)\n",
    "model.fit(X_train, Y_train) "
   ]
  },
  {
   "cell_type": "code",
   "execution_count": 189,
   "id": "7c38936f-9ba4-40cc-8bb5-158adf601db2",
   "metadata": {},
   "outputs": [],
   "source": [
    "# Obtener la importancia de las características \n",
    "importance = model.feature_importances_ "
   ]
  },
  {
   "cell_type": "code",
   "execution_count": 204,
   "id": "053a6bd1-a974-4b56-aa36-f52950dd1ff4",
   "metadata": {},
   "outputs": [
    {
     "name": "stdout",
     "output_type": "stream",
     "text": [
      "Mean Squared Error: 0.92\n",
      "R^2 Score: 0.96\n"
     ]
    }
   ],
   "source": [
    "# Evaluación del modelo \n",
    "Y_pred = model.predict(X_test) \n",
    "mse = mean_squared_error(Y_test, Y_pred) \n",
    "r2 = r2_score(Y_test, Y_pred) \n",
    "\n",
    "print(f'Mean Squared Error: {mse:.2f}') \n",
    "print(f'R^2 Score: {r2:.2f}')"
   ]
  },
  {
   "cell_type": "markdown",
   "id": "93fd00b5-f1ec-4a26-ac1a-b4871302ac7e",
   "metadata": {},
   "source": [
    "## 6. Evaluar el desempeño del modelo en el conjunto de Test con métricas como precisión, recall, F1-score, etc."
   ]
  },
  {
   "cell_type": "code",
   "execution_count": 208,
   "id": "8f6a0a40-7f06-48c0-96d2-a47ad4d41435",
   "metadata": {},
   "outputs": [],
   "source": [
    "import numpy as np \n",
    "from sklearn.metrics import mean_absolute_error, mean_squared_error, r2_score "
   ]
  },
  {
   "cell_type": "code",
   "execution_count": 216,
   "id": "b77acfde-30d1-49bb-80c3-09ccb5839846",
   "metadata": {},
   "outputs": [],
   "source": [
    "#Realizar predicciones en el conjunto de prueba\n",
    "Y_pred = model.predict(X_test) "
   ]
  },
  {
   "cell_type": "code",
   "execution_count": 220,
   "id": "f1307737-7b0f-413a-a31c-83fc999663fc",
   "metadata": {},
   "outputs": [],
   "source": [
    "#Calcular las métricas \n",
    "mae = mean_absolute_error(Y_test, Y_pred) \n",
    "mse = mean_squared_error(Y_test, Y_pred) \n",
    "rmse = np.sqrt(mse) \n",
    "r2 = r2_score(Y_test, Y_pred) "
   ]
  },
  {
   "cell_type": "code",
   "execution_count": 224,
   "id": "3bc36e60-d887-4da4-b968-e883727e2306",
   "metadata": {},
   "outputs": [
    {
     "name": "stdout",
     "output_type": "stream",
     "text": [
      "Evaluación del Modelo en el Conjunto de Test:\n",
      "Mean Absolute Error (MAE): 0.66\n",
      "Mean Squared Error (MSE): 1.01\n",
      "Root Mean Squared Error (RMSE): 1.00\n",
      "R² Score: 0.96\n"
     ]
    }
   ],
   "source": [
    "#Mostrar las métricas \n",
    "print(\"Evaluación del Modelo en el Conjunto de Test:\") \n",
    "print(f\"Mean Absolute Error (MAE): {mae:.2f}\")\n",
    "print(f\"Mean Squared Error (MSE): {mse:.2f}\") \n",
    "print(f\"Root Mean Squared Error (RMSE): {rmse:.2f}\") \n",
    "print(f\"R² Score: {r2:.2f}\")"
   ]
  },
  {
   "cell_type": "markdown",
   "id": "75feb3ee-2cbf-4504-b38a-b6fe4d0eca25",
   "metadata": {},
   "source": [
    "## 7. Realizar las diferentes gráficas que permitan visualizar los resultados del modelo."
   ]
  },
  {
   "cell_type": "code",
   "execution_count": 234,
   "id": "0fd01857-fbf8-445d-b5ba-71a756628abe",
   "metadata": {},
   "outputs": [],
   "source": [
    "import matplotlib.pyplot as plt \n",
    "import seaborn as sns \n",
    "import numpy as np "
   ]
  },
  {
   "cell_type": "code",
   "execution_count": 238,
   "id": "c0e85fb2-7b00-4c82-8d4d-4985e156c64e",
   "metadata": {},
   "outputs": [],
   "source": [
    "#Predicciones en el conjunto de prueba \n",
    "y_pred = model.predict(X_test) "
   ]
  },
  {
   "cell_type": "code",
   "execution_count": 244,
   "id": "d7923761-1155-444d-b3fb-cae26f8f9419",
   "metadata": {},
   "outputs": [
    {
     "data": {
      "image/png": "[encoded data removed]",
      "text/plain": [
       "<Figure size 1000x600 with 1 Axes>"
      ]
     },
     "metadata": {},
     "output_type": "display_data"
    }
   ],
   "source": [
    "#1. Gráfica de Predicciones vs. Valores Reales \n",
    "plt.figure(figsize=(10, 6)) \n",
    "plt.scatter(Y_test, Y_pred, alpha=0.6) \n",
    "plt.plot([Y_test.min(), Y_test.max()], [Y_test.min(), Y_test.max()], 'r--')\n",
    "plt.title('Predicciones vs. Valores Reales')\n",
    "plt.xlabel('Valores Reales')\n",
    "plt.ylabel('Predicciones')\n",
    "plt.show() "
   ]
  },
  {
   "cell_type": "code",
   "execution_count": 255,
   "id": "d47616bf-cf72-4052-9426-80108d757e63",
   "metadata": {},
   "outputs": [
    {
     "data": {
      "image/png": "[encoded data removed]",
      "text/plain": [
       "<Figure size 1000x600 with 1 Axes>"
      ]
     },
     "metadata": {},
     "output_type": "display_data"
    }
   ],
   "source": [
    "#2. Histograma de Errores \n",
    "errors = Y_test - Y_pred \n",
    "plt.figure(figsize=(10, 6)) \n",
    "sns.histplot(errors, bins=30, kde=True) \n",
    "plt.title('Histograma de Errores')\n",
    "plt.xlabel('Error') \n",
    "plt.ylabel('Frecuencia') \n",
    "plt.axvline(0, color='red', linestyle='--') # Linea en x=0 \n",
    "plt.show() "
   ]
  },
  {
   "cell_type": "code",
   "execution_count": 273,
   "id": "6774e050-e7a6-493e-91db-8f7f97f48b7b",
   "metadata": {},
   "outputs": [
    {
     "data": {
      "image/png": "[encoded data removed]",
      "text/plain": [
       "<Figure size 1000x600 with 1 Axes>"
      ]
     },
     "metadata": {},
     "output_type": "display_data"
    }
   ],
   "source": [
    "#3. Gráfica de Importancia de Características \n",
    "importance = model.feature_importances_ \n",
    "feature_importance = pd.DataFrame ({'Feature': X.columns, 'Importance': importance}) \n",
    "feature_importance = feature_importance.sort_values(by='Importance', ascending=False) \n",
    "\n",
    "plt.figure(figsize=(10, 6)) \n",
    "sns.barplot(x='Importance', y='Feature', data=feature_importance) \n",
    "plt.title('Importancia de las Características') \n",
    "plt.xlabel('Importancia') \n",
    "plt.ylabel('Características') \n",
    "plt.show()"
   ]
  }
 ],
 "metadata": {
  "kernelspec": {
   "display_name": "Python 3 (ipykernel)",
   "language": "python",
   "name": "python3"
  },
  "language_info": {
   "codemirror_mode": {
    "name": "ipython",
    "version": 3
   },
   "file_extension": ".py",
   "mimetype": "text/x-python",
   "name": "python",
   "nbconvert_exporter": "python",
   "pygments_lexer": "ipython3",
   "version": "3.12.7"
  }
 },
 "nbformat": 4,
 "nbformat_minor": 5
}
